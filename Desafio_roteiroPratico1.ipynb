{
  "nbformat": 4,
  "nbformat_minor": 0,
  "metadata": {
    "colab": {
      "provenance": [],
      "mount_file_id": "1DZglfBgHvb80Bj2finb_UxpX-NkR2EFs",
      "authorship_tag": "ABX9TyNcmnxMX7F0YaKX+47iBVko",
      "include_colab_link": true
    },
    "kernelspec": {
      "name": "python3",
      "display_name": "Python 3"
    },
    "language_info": {
      "name": "python"
    }
  },
  "cells": [
    {
      "cell_type": "markdown",
      "metadata": {
        "id": "view-in-github",
        "colab_type": "text"
      },
      "source": [
        "<a href=\"https://colab.research.google.com/github/YamRfl/Desafio_roteiroPratico1/blob/main/Desafio_roteiroPratico1.ipynb\" target=\"_parent\"><img src=\"https://colab.research.google.com/assets/colab-badge.svg\" alt=\"Open In Colab\"/></a>"
      ]
    },
    {
      "cell_type": "markdown",
      "source": [
        "##Exercício 1"
      ],
      "metadata": {
        "id": "46E_lHZFtjm6"
      }
    },
    {
      "cell_type": "code",
      "source": [
        "nome = \"José Amaro Rafael\"\n",
        "idade = 50\n",
        "cidade = \"Santo André\"\n",
        "estadoCivil = \"casado\"\n",
        "\n",
        "print(f\"Meu nome é {nome}, tenho {idade} anos, sou {estadoCivil} e moro em {cidade}.\")"
      ],
      "metadata": {
        "id": "ADxNTtOotpxx",
        "colab": {
          "base_uri": "https://localhost:8080/"
        },
        "outputId": "55b7c83b-88af-4079-9fa2-63ba6348cc39"
      },
      "execution_count": 9,
      "outputs": [
        {
          "output_type": "stream",
          "name": "stdout",
          "text": [
            "Meu nome é José Amaro Rafael, tenho 50 anos, sou casado e moro em Santo André.\n"
          ]
        }
      ]
    },
    {
      "cell_type": "code",
      "source": [],
      "metadata": {
        "id": "-zWnWm_aFxWP"
      },
      "execution_count": 9,
      "outputs": []
    },
    {
      "cell_type": "markdown",
      "source": [
        "##Exercício 2"
      ],
      "metadata": {
        "id": "fvQ8Z6a5GiHC"
      }
    },
    {
      "cell_type": "code",
      "source": [
        "numeros = [10, 20, 30, 40, 50]\n",
        "soma = sum(numeros)\n",
        "divisor = len(numeros)\n",
        "media = int(soma / divisor)\n",
        "print(f\"A média dos números da lista é {media}.\")"
      ],
      "metadata": {
        "colab": {
          "base_uri": "https://localhost:8080/"
        },
        "id": "tjpKoeNsGqMH",
        "outputId": "38ba824f-cbb1-4791-b538-352a8223e503"
      },
      "execution_count": 4,
      "outputs": [
        {
          "output_type": "stream",
          "name": "stdout",
          "text": [
            "A média dos números da lista é 30.\n"
          ]
        }
      ]
    },
    {
      "cell_type": "markdown",
      "source": [
        "##Exercício 3"
      ],
      "metadata": {
        "id": "7bGgYPolHbPI"
      }
    },
    {
      "cell_type": "code",
      "source": [
        "gastos_rodolfinho =[300, 500, 300, 800]\n",
        "\n",
        "gastos_rodolfao = [200, 400, 500, 700]\n",
        "\n",
        "GastoA = sum(gastos_rodolfinho)\n",
        "\n",
        "GastoB = sum(gastos_rodolfao)\n",
        "\n",
        "if GastoA > GastoB:\n",
        "  print(\"Rodolfinho gastou mais que seu amigo no mês.\")\n",
        "else:\n",
        "  print(\"Rodolfão gastou mais que seu amigo no mês.\")"
      ],
      "metadata": {
        "colab": {
          "base_uri": "https://localhost:8080/"
        },
        "id": "WWBL1U_yHfK8",
        "outputId": "872597ad-7dc5-40f1-ce32-7e2fd4569413"
      },
      "execution_count": 8,
      "outputs": [
        {
          "output_type": "stream",
          "name": "stdout",
          "text": [
            "Rodolfinho gastou mais que seu amigo no mês.\n"
          ]
        }
      ]
    }
  ]
}